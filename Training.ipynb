{
 "cells": [
  {
   "cell_type": "code",
   "execution_count": 1,
   "metadata": {},
   "outputs": [],
   "source": [
    "# Importing Libraries\n",
    "import tensorflow as tf\n",
    "import h5py\n",
    "import numpy as np\n",
    "from helper_functions import create_tfrecord, parse_tfrecord_fn, load_tfrecord_dataset"
   ]
  },
  {
   "cell_type": "code",
   "execution_count": 3,
   "metadata": {},
   "outputs": [],
   "source": [
    "# Load TFRecord datasets\n",
    "train_dataset = load_tfrecord_dataset('tfrecords/train.tfrecord')\n",
    "test_dataset = load_tfrecord_dataset('tfrecords/test.tfrecord')\n",
    "val_dataset = load_tfrecord_dataset('tfrecords/val.tfrecord')\n",
    "\n",
    "# Shuffle and batch the datasets\n",
    "BATCH_SIZE = 32\n",
    "train_dataset = train_dataset.shuffle(buffer_size=1000).batch(BATCH_SIZE).prefetch(buffer_size=tf.data.experimental.AUTOTUNE)\n",
    "test_dataset = test_dataset.batch(BATCH_SIZE).prefetch(buffer_size=tf.data.experimental.AUTOTUNE)\n",
    "val_dataset = val_dataset.batch(BATCH_SIZE).prefetch(buffer_size=tf.data.experimental.AUTOTUNE)"
   ]
  },
  {
   "cell_type": "code",
   "execution_count": 4,
   "metadata": {},
   "outputs": [],
   "source": [
    "from define_models import createResNet, createVGG16"
   ]
  },
  {
   "cell_type": "code",
   "execution_count": 5,
   "metadata": {},
   "outputs": [],
   "source": [
    "model = createResNet()"
   ]
  },
  {
   "cell_type": "code",
   "execution_count": 6,
   "metadata": {},
   "outputs": [
    {
     "name": "stdout",
     "output_type": "stream",
     "text": [
      "Epoch 1/20\n",
      "   8191/Unknown - 292s 35ms/step - loss: 0.8009 - accuracy: 0.8027\n",
      "Epoch 1: val_loss improved from inf to 0.85551, saving model to Model_Checkpoints\n"
     ]
    },
    {
     "name": "stderr",
     "output_type": "stream",
     "text": [
      "WARNING:absl:Found untraced functions such as _jit_compiled_convolution_op, _jit_compiled_convolution_op, _jit_compiled_convolution_op, _jit_compiled_convolution_op, _jit_compiled_convolution_op while saving (showing 5 of 24). These functions will not be directly callable after loading.\n"
     ]
    },
    {
     "name": "stdout",
     "output_type": "stream",
     "text": [
      "INFO:tensorflow:Assets written to: Model_Checkpoints\\assets\n"
     ]
    },
    {
     "name": "stderr",
     "output_type": "stream",
     "text": [
      "INFO:tensorflow:Assets written to: Model_Checkpoints\\assets\n"
     ]
    },
    {
     "name": "stdout",
     "output_type": "stream",
     "text": [
      "8192/8192 [==============================] - 311s 37ms/step - loss: 0.8008 - accuracy: 0.8027 - val_loss: 0.8555 - val_accuracy: 0.6098\n",
      "Epoch 2/20\n",
      "8191/8192 [============================>.] - ETA: 0s - loss: 0.4590 - accuracy: 0.8253\n",
      "Epoch 2: val_loss improved from 0.85551 to 0.68008, saving model to Model_Checkpoints\n"
     ]
    },
    {
     "name": "stderr",
     "output_type": "stream",
     "text": [
      "WARNING:absl:Found untraced functions such as _jit_compiled_convolution_op, _jit_compiled_convolution_op, _jit_compiled_convolution_op, _jit_compiled_convolution_op, _jit_compiled_convolution_op while saving (showing 5 of 24). These functions will not be directly callable after loading.\n"
     ]
    },
    {
     "name": "stdout",
     "output_type": "stream",
     "text": [
      "INFO:tensorflow:Assets written to: Model_Checkpoints\\assets\n"
     ]
    },
    {
     "name": "stderr",
     "output_type": "stream",
     "text": [
      "INFO:tensorflow:Assets written to: Model_Checkpoints\\assets\n"
     ]
    },
    {
     "name": "stdout",
     "output_type": "stream",
     "text": [
      "8192/8192 [==============================] - 298s 36ms/step - loss: 0.4590 - accuracy: 0.8253 - val_loss: 0.6801 - val_accuracy: 0.6641\n",
      "Epoch 3/20\n",
      "8191/8192 [============================>.] - ETA: 0s - loss: 0.4240 - accuracy: 0.8333\n",
      "Epoch 3: val_loss improved from 0.68008 to 0.54667, saving model to Model_Checkpoints\n"
     ]
    },
    {
     "name": "stderr",
     "output_type": "stream",
     "text": [
      "WARNING:absl:Found untraced functions such as _jit_compiled_convolution_op, _jit_compiled_convolution_op, _jit_compiled_convolution_op, _jit_compiled_convolution_op, _jit_compiled_convolution_op while saving (showing 5 of 24). These functions will not be directly callable after loading.\n"
     ]
    },
    {
     "name": "stdout",
     "output_type": "stream",
     "text": [
      "INFO:tensorflow:Assets written to: Model_Checkpoints\\assets\n"
     ]
    },
    {
     "name": "stderr",
     "output_type": "stream",
     "text": [
      "INFO:tensorflow:Assets written to: Model_Checkpoints\\assets\n"
     ]
    },
    {
     "name": "stdout",
     "output_type": "stream",
     "text": [
      "8192/8192 [==============================] - 301s 37ms/step - loss: 0.4240 - accuracy: 0.8333 - val_loss: 0.5467 - val_accuracy: 0.7420\n",
      "Epoch 4/20\n",
      "8192/8192 [==============================] - ETA: 0s - loss: 0.4137 - accuracy: 0.8368\n",
      "Epoch 4: val_loss did not improve from 0.54667\n",
      "8192/8192 [==============================] - 292s 36ms/step - loss: 0.4137 - accuracy: 0.8368 - val_loss: 1.2598 - val_accuracy: 0.5337\n",
      "Epoch 5/20\n",
      "8191/8192 [============================>.] - ETA: 0s - loss: 0.4087 - accuracy: 0.8395\n",
      "Epoch 5: val_loss improved from 0.54667 to 0.45696, saving model to Model_Checkpoints\n"
     ]
    },
    {
     "name": "stderr",
     "output_type": "stream",
     "text": [
      "WARNING:absl:Found untraced functions such as _jit_compiled_convolution_op, _jit_compiled_convolution_op, _jit_compiled_convolution_op, _jit_compiled_convolution_op, _jit_compiled_convolution_op while saving (showing 5 of 24). These functions will not be directly callable after loading.\n"
     ]
    },
    {
     "name": "stdout",
     "output_type": "stream",
     "text": [
      "INFO:tensorflow:Assets written to: Model_Checkpoints\\assets\n"
     ]
    },
    {
     "name": "stderr",
     "output_type": "stream",
     "text": [
      "INFO:tensorflow:Assets written to: Model_Checkpoints\\assets\n"
     ]
    },
    {
     "name": "stdout",
     "output_type": "stream",
     "text": [
      "8192/8192 [==============================] - 299s 37ms/step - loss: 0.4087 - accuracy: 0.8395 - val_loss: 0.4570 - val_accuracy: 0.8055\n",
      "Epoch 6/20\n",
      "8191/8192 [============================>.] - ETA: 0s - loss: 0.4034 - accuracy: 0.8402\n",
      "Epoch 6: val_loss did not improve from 0.45696\n",
      "8192/8192 [==============================] - 293s 36ms/step - loss: 0.4034 - accuracy: 0.8402 - val_loss: 1.4125 - val_accuracy: 0.5422\n",
      "Epoch 7/20\n",
      "8191/8192 [============================>.] - ETA: 0s - loss: 0.3998 - accuracy: 0.8428\n",
      "Epoch 7: val_loss did not improve from 0.45696\n",
      "8192/8192 [==============================] - 297s 36ms/step - loss: 0.3998 - accuracy: 0.8428 - val_loss: 1.1042 - val_accuracy: 0.5879\n",
      "Epoch 8/20\n",
      "8191/8192 [============================>.] - ETA: 0s - loss: 0.3966 - accuracy: 0.8441\n",
      "Epoch 8: val_loss did not improve from 0.45696\n",
      "8192/8192 [==============================] - 283s 35ms/step - loss: 0.3966 - accuracy: 0.8441 - val_loss: 0.8831 - val_accuracy: 0.6277\n",
      "Epoch 9/20\n",
      "8191/8192 [============================>.] - ETA: 0s - loss: 0.3943 - accuracy: 0.8452\n",
      "Epoch 9: val_loss did not improve from 0.45696\n",
      "8192/8192 [==============================] - 276s 34ms/step - loss: 0.3943 - accuracy: 0.8452 - val_loss: 0.6025 - val_accuracy: 0.7510\n",
      "Epoch 10/20\n",
      "8191/8192 [============================>.] - ETA: 0s - loss: 0.3954 - accuracy: 0.8443\n",
      "Epoch 10: val_loss did not improve from 0.45696\n",
      "Restoring model weights from the end of the best epoch: 5.\n",
      "8192/8192 [==============================] - 276s 34ms/step - loss: 0.3954 - accuracy: 0.8443 - val_loss: 0.7827 - val_accuracy: 0.6975\n",
      "Epoch 10: early stopping\n"
     ]
    }
   ],
   "source": [
    "# Training the ResNet Architecture\n",
    "from keras.callbacks import EarlyStopping\n",
    "from keras.callbacks import ModelCheckpoint\n",
    "\n",
    "# Define early stopping criteria\n",
    "early_stop = EarlyStopping(monitor='val_loss', patience=5, verbose=1, restore_best_weights=True)\n",
    "\n",
    "# Define the ModelCheckpoint callback\n",
    "checkpoint_callback = ModelCheckpoint(filepath=\"Model_Checkpoints\",\n",
    "                                      monitor='val_loss',\n",
    "                                      save_best_only=True,\n",
    "                                      save_weights_only=False,\n",
    "                                      mode='min',\n",
    "                                      verbose=1)\n",
    "\n",
    "model.compile(optimizer='adam', loss='binary_crossentropy', metrics=['accuracy'])\n",
    "\n",
    "# Fit the model with early stopping\n",
    "history = model.fit(train_dataset, batch_size=32, epochs=20, validation_data=val_dataset, callbacks=[checkpoint_callback, early_stop])\n",
    "\n",
    "model.save(\"ResNet_Model.h5\")\n"
   ]
  },
  {
   "cell_type": "code",
   "execution_count": 7,
   "metadata": {},
   "outputs": [],
   "source": [
    "# Save the Best Model Weights\n",
    "model = tf.keras.models.load_model(\"Model_Checkpoints\")\n",
    "model.save(\"ResNet_Model_Best.h5\")"
   ]
  },
  {
   "cell_type": "code",
   "execution_count": 5,
   "metadata": {},
   "outputs": [],
   "source": [
    "model = createVGG16()"
   ]
  },
  {
   "cell_type": "code",
   "execution_count": 6,
   "metadata": {},
   "outputs": [
    {
     "name": "stdout",
     "output_type": "stream",
     "text": [
      "Epoch 1/20\n"
     ]
    },
    {
     "name": "stderr",
     "output_type": "stream",
     "text": [
      "c:\\Users\\sahil\\.conda\\envs\\tf\\lib\\site-packages\\keras\\optimizers\\optimizer_v2\\gradient_descent.py:111: UserWarning: The `lr` argument is deprecated, use `learning_rate` instead.\n",
      "  super().__init__(name, **kwargs)\n"
     ]
    },
    {
     "name": "stdout",
     "output_type": "stream",
     "text": [
      "   8191/Unknown - 164s 19ms/step - loss: 0.3477 - auc: 0.9254\n",
      "Epoch 1: val_loss improved from inf to 0.41383, saving model to Model_Checkpoints\n"
     ]
    },
    {
     "name": "stderr",
     "output_type": "stream",
     "text": [
      "WARNING:absl:Found untraced functions such as _jit_compiled_convolution_op, _jit_compiled_convolution_op, _jit_compiled_convolution_op, _jit_compiled_convolution_op, _jit_compiled_convolution_op while saving (showing 5 of 13). These functions will not be directly callable after loading.\n"
     ]
    },
    {
     "name": "stdout",
     "output_type": "stream",
     "text": [
      "INFO:tensorflow:Assets written to: Model_Checkpoints\\assets\n"
     ]
    },
    {
     "name": "stderr",
     "output_type": "stream",
     "text": [
      "INFO:tensorflow:Assets written to: Model_Checkpoints\\assets\n"
     ]
    },
    {
     "name": "stdout",
     "output_type": "stream",
     "text": [
      "8192/8192 [==============================] - 185s 22ms/step - loss: 0.3477 - auc: 0.9254 - val_loss: 0.4138 - val_auc: 0.8949\n",
      "Epoch 2/20\n",
      "8191/8192 [============================>.] - ETA: 0s - loss: 0.2971 - auc: 0.9460\n",
      "Epoch 2: val_loss did not improve from 0.41383\n",
      "8192/8192 [==============================] - 176s 21ms/step - loss: 0.2972 - auc: 0.9460 - val_loss: 0.4933 - val_auc: 0.8735\n",
      "Epoch 3/20\n",
      "8191/8192 [============================>.] - ETA: 0s - loss: 0.2745 - auc: 0.9540\n",
      "Epoch 3: val_loss did not improve from 0.41383\n",
      "8192/8192 [==============================] - 178s 22ms/step - loss: 0.2745 - auc: 0.9540 - val_loss: 0.4815 - val_auc: 0.8816\n",
      "Epoch 4/20\n",
      "8192/8192 [==============================] - ETA: 0s - loss: 0.2583 - auc: 0.9593\n",
      "Epoch 4: val_loss did not improve from 0.41383\n",
      "8192/8192 [==============================] - 178s 22ms/step - loss: 0.2583 - auc: 0.9593 - val_loss: 0.5550 - val_auc: 0.8531\n",
      "Epoch 5/20\n",
      "8192/8192 [==============================] - ETA: 0s - loss: 0.2461 - auc: 0.9631\n",
      "Epoch 5: val_loss did not improve from 0.41383\n",
      "8192/8192 [==============================] - 180s 22ms/step - loss: 0.2461 - auc: 0.9631 - val_loss: 0.5399 - val_auc: 0.8669\n",
      "Epoch 6/20\n",
      "8190/8192 [============================>.] - ETA: 0s - loss: 0.2362 - auc: 0.9660\n",
      "Epoch 6: val_loss did not improve from 0.41383\n",
      "Restoring model weights from the end of the best epoch: 1.\n",
      "8192/8192 [==============================] - 180s 22ms/step - loss: 0.2361 - auc: 0.9660 - val_loss: 0.5524 - val_auc: 0.8625\n",
      "Epoch 6: early stopping\n"
     ]
    }
   ],
   "source": [
    "from keras.callbacks import EarlyStopping\n",
    "from keras.callbacks import ModelCheckpoint\n",
    "from keras.optimizers import SGD\n",
    "\n",
    "# Compile the model\n",
    "sgd = SGD(lr=0.01, momentum=0.9)\n",
    "model.compile(optimizer='adam', loss='binary_crossentropy', metrics=[[tf.keras.metrics.AUC()]])\n",
    "\n",
    "# Define early stopping criteria\n",
    "early_stop = EarlyStopping(monitor='val_loss', patience=5, verbose=1, restore_best_weights=True)\n",
    "\n",
    "# Define the ModelCheckpoint callback\n",
    "checkpoint_callback = ModelCheckpoint(filepath=\"Model_Checkpoints\",\n",
    "                                      monitor='val_loss',\n",
    "                                      save_best_only=True,\n",
    "                                      save_weights_only=False,\n",
    "                                      mode='min',\n",
    "                                      verbose=1)\n",
    "\n",
    "\n",
    "# Fit the model with early stopping\n",
    "history = model.fit(train_dataset, batch_size=64, epochs=20, validation_data=val_dataset, callbacks=[checkpoint_callback, early_stop])"
   ]
  },
  {
   "cell_type": "code",
   "execution_count": null,
   "metadata": {},
   "outputs": [],
   "source": [
    "# Save the Best Model Weights\n",
    "model = tf.keras.models.load_model(\"Model_Checkpoints\")\n",
    "model.save(\"VGG16_Model_Best.h5\")"
   ]
  }
 ],
 "metadata": {
  "kernelspec": {
   "display_name": "tf",
   "language": "python",
   "name": "python3"
  },
  "language_info": {
   "codemirror_mode": {
    "name": "ipython",
    "version": 3
   },
   "file_extension": ".py",
   "mimetype": "text/x-python",
   "name": "python",
   "nbconvert_exporter": "python",
   "pygments_lexer": "ipython3",
   "version": "3.9.18"
  }
 },
 "nbformat": 4,
 "nbformat_minor": 2
}
